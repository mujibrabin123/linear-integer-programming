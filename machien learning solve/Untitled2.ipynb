{
  "nbformat": 4,
  "nbformat_minor": 0,
  "metadata": {
    "colab": {
      "provenance": []
    },
    "kernelspec": {
      "name": "python3",
      "display_name": "Python 3"
    },
    "language_info": {
      "name": "python"
    }
  },
  "cells": [
    {
      "cell_type": "code",
      "execution_count": 2,
      "metadata": {
        "id": "8-Qgt2pMfsno"
      },
      "outputs": [],
      "source": [
        "import numpy as np"
      ]
    },
    {
      "cell_type": "code",
      "source": [
        "# Define the objective function\n",
        "def objective_function(x, y):\n",
        "    return 40 * x + 30 * y"
      ],
      "metadata": {
        "id": "nPfzUPKIfvp0"
      },
      "execution_count": 3,
      "outputs": []
    },
    {
      "cell_type": "code",
      "source": [
        "def is_feasible(x, y):\n",
        "    return (2 * x + y <= 20) and (4 * x + 3 * y <= 60)\n"
      ],
      "metadata": {
        "id": "XPFLPlY1f1yl"
      },
      "execution_count": 4,
      "outputs": []
    },
    {
      "cell_type": "code",
      "source": [
        "def initialize_population(pop_size, n_vars):\n",
        "    return np.random.randint(0, 20, size=(pop_size, n_vars))"
      ],
      "metadata": {
        "id": "ceQecYi1f45n"
      },
      "execution_count": 5,
      "outputs": []
    },
    {
      "cell_type": "code",
      "source": [
        "def evaluate_population(population):\n",
        "    return np.array([objective_function(ind[0], ind[1]) if is_feasible(ind[0], ind[1]) else -np.inf for ind in population])"
      ],
      "metadata": {
        "id": "PTgR27Qmf7RZ"
      },
      "execution_count": 6,
      "outputs": []
    },
    {
      "cell_type": "code",
      "source": [
        "def selection(population, fitness):\n",
        "    indices = np.argsort(fitness)[-len(population)//2:]\n",
        "    return population[indices]"
      ],
      "metadata": {
        "id": "kXUHr_obf7Tk"
      },
      "execution_count": 7,
      "outputs": []
    },
    {
      "cell_type": "code",
      "source": [
        "def crossover(parents):\n",
        "    offspring = []\n",
        "    for i in range(len(parents) // 2):\n",
        "        parent1, parent2 = parents[i], parents[len(parents) - i - 1]\n",
        "        child1 = np.array([parent1[0], parent2[1]])\n",
        "        child2 = np.array([parent2[0], parent1[1]])\n",
        "        offspring.extend([child1, child2])\n",
        "    return np.array(offspring)"
      ],
      "metadata": {
        "id": "H9jfQRcDgCiP"
      },
      "execution_count": 8,
      "outputs": []
    },
    {
      "cell_type": "code",
      "source": [
        "def mutate(offspring, mutation_rate=0.1):\n",
        "    for i in range(len(offspring)):\n",
        "        if np.random.rand() < mutation_rate:\n",
        "            offspring[i][np.random.randint(0, len(offspring[i]))] = np.random.randint(0, 20)\n",
        "    return offspring"
      ],
      "metadata": {
        "id": "H_HzSLGrgEux"
      },
      "execution_count": 9,
      "outputs": []
    },
    {
      "cell_type": "code",
      "source": [
        "# Main Genetic Algorithm Loop\n",
        "pop_size = 100\n",
        "n_vars = 2\n",
        "n_generations = 1000\n",
        "mutation_rate = 0.1\n"
      ],
      "metadata": {
        "id": "YJU20bRjgHAa"
      },
      "execution_count": 10,
      "outputs": []
    },
    {
      "cell_type": "code",
      "source": [
        "population = initialize_population(pop_size, n_vars)\n",
        "for generation in range(n_generations):\n",
        "    fitness = evaluate_population(population)\n",
        "    parents = selection(population, fitness)\n",
        "    offspring = crossover(parents)\n",
        "    offspring = mutate(offspring, mutation_rate)\n",
        "    population[:len(offspring)] = offspring"
      ],
      "metadata": {
        "id": "hs7I4WX0gKhb"
      },
      "execution_count": 11,
      "outputs": []
    },
    {
      "cell_type": "code",
      "source": [
        "# Find the best solution\n",
        "best_solution = population[np.argmax(evaluate_population(population))]\n",
        "print(\"Best solution found:\", best_solution)\n",
        "print(\"Objective value:\", objective_function(best_solution[0], best_solution[1]))"
      ],
      "metadata": {
        "colab": {
          "base_uri": "https://localhost:8080/"
        },
        "id": "1Jzvx27IgM2F",
        "outputId": "9c926fc4-b160-4ed2-92aa-72ff5417844c"
      },
      "execution_count": 12,
      "outputs": [
        {
          "output_type": "stream",
          "name": "stdout",
          "text": [
            "Best solution found: [ 1 17]\n",
            "Objective value: 550\n"
          ]
        }
      ]
    }
  ]
}