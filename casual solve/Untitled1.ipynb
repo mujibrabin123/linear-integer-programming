{
  "nbformat": 4,
  "nbformat_minor": 0,
  "metadata": {
    "colab": {
      "provenance": []
    },
    "kernelspec": {
      "name": "python3",
      "display_name": "Python 3"
    },
    "language_info": {
      "name": "python"
    }
  },
  "cells": [
    {
      "cell_type": "markdown",
      "source": [
        "Objective function = 40x+30y\n",
        "subject to the constraints = 2x+y≤20\n",
        "second constraints = 4x+3y≤60\n"
      ],
      "metadata": {
        "id": "Pg17tsSgYZRd"
      }
    },
    {
      "cell_type": "code",
      "source": [
        "pip install pulp"
      ],
      "metadata": {
        "colab": {
          "base_uri": "https://localhost:8080/"
        },
        "id": "wLwaou0sYECh",
        "outputId": "48e5e77d-e584-41df-c9dc-f3779c3d9e29"
      },
      "execution_count": 4,
      "outputs": [
        {
          "output_type": "stream",
          "name": "stdout",
          "text": [
            "Requirement already satisfied: pulp in /usr/local/lib/python3.10/dist-packages (2.9.0)\n"
          ]
        }
      ]
    },
    {
      "cell_type": "code",
      "source": [
        "from pulp import LpMaximize, LpProblem, LpVariable, lpSum, PULP_CBC_CMD"
      ],
      "metadata": {
        "id": "XDary4xHZLHN"
      },
      "execution_count": 5,
      "outputs": []
    },
    {
      "cell_type": "code",
      "source": [
        "problem = LpProblem(\"Maximize_Profit\", LpMaximize)"
      ],
      "metadata": {
        "id": "nsRjo829ZL7D"
      },
      "execution_count": 6,
      "outputs": []
    },
    {
      "cell_type": "code",
      "source": [
        "x = LpVariable('x', lowBound=0, cat='Integer')\n",
        "y = LpVariable('y', lowBound=0, cat='Integer')"
      ],
      "metadata": {
        "id": "cmyvr-xUZOy4"
      },
      "execution_count": 7,
      "outputs": []
    },
    {
      "cell_type": "code",
      "source": [
        "problem += 40 * x + 30 * y"
      ],
      "metadata": {
        "id": "krNjEmAlZPtK"
      },
      "execution_count": 8,
      "outputs": []
    },
    {
      "cell_type": "code",
      "source": [
        "problem += 2 * x + y <= 20\n",
        "problem += 4 * x + 3 * y <= 60"
      ],
      "metadata": {
        "id": "1mAG7LbrZRyj"
      },
      "execution_count": 9,
      "outputs": []
    },
    {
      "cell_type": "code",
      "source": [
        "problem.solve(PULP_CBC_CMD(msg=0))"
      ],
      "metadata": {
        "colab": {
          "base_uri": "https://localhost:8080/"
        },
        "id": "7XaSImeDZVLc",
        "outputId": "ddd3544a-5f52-41d7-beae-60081e1c9e70"
      },
      "execution_count": 10,
      "outputs": [
        {
          "output_type": "execute_result",
          "data": {
            "text/plain": [
              "1"
            ]
          },
          "metadata": {},
          "execution_count": 10
        }
      ]
    },
    {
      "cell_type": "code",
      "source": [
        "print(f\"Optimal value of x: {x.varValue}\")\n",
        "print(f\"Optimal value of y: {y.varValue}\")\n",
        "print(f\"Maximum profit: {problem.objective.value()}\")"
      ],
      "metadata": {
        "colab": {
          "base_uri": "https://localhost:8080/"
        },
        "id": "-3IvgvC2ZV8g",
        "outputId": "8e8aa7a2-fa8c-4229-e0be-d1271be245b0"
      },
      "execution_count": 11,
      "outputs": [
        {
          "output_type": "stream",
          "name": "stdout",
          "text": [
            "Optimal value of x: 0.0\n",
            "Optimal value of y: 20.0\n",
            "Maximum profit: 600.0\n"
          ]
        }
      ]
    },
    {
      "cell_type": "code",
      "source": [
        "with open(\"LIP_solution.txt\", \"w\") as file:\n",
        "    file.write(f\"Optimal value of x: {x.varValue}\\n\")\n",
        "    file.write(f\"Optimal value of y: {y.varValue}\\n\")\n",
        "    file.write(f\"Maximum profit: {problem.objective.value()}\\n\")"
      ],
      "metadata": {
        "id": "LO7ZVmLNZYMk"
      },
      "execution_count": 12,
      "outputs": []
    }
  ]
}